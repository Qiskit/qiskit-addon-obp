{
 "cells": [
  {
   "cell_type": "code",
   "execution_count": 1,
   "metadata": {},
   "outputs": [],
   "source": [
    "from qiskit import QuantumCircuit\n",
    "from qiskit.quantum_info import PauliList, SparsePauliOp\n",
    "from qiskit_addon_obp import backpropagate\n",
    "from qiskit_addon_obp.utils.lindblad_noise import PauliLindbladError, PauliLindbladErrorInstruction"
   ]
  },
  {
   "cell_type": "code",
   "execution_count": 2,
   "metadata": {},
   "outputs": [
    {
     "data": {
      "text/html": [
       "<pre style=\"word-wrap: normal;white-space: pre;background: #fff0;line-height: 1.1;font-family: &quot;Courier New&quot;,Courier,monospace\">     ┌───┐ ░      ┌─────────────┐ ░ \n",
       "q_0: ┤ H ├─░───■──┤0            ├─░─\n",
       "     └───┘ ░ ┌─┴─┐│  Layererror │ ░ \n",
       "q_1: ──────░─┤ X ├┤1            ├─░─\n",
       "           ░ └───┘└─────────────┘ ░ </pre>"
      ],
      "text/plain": [
       "     ┌───┐ ░      ┌─────────────┐ ░ \n",
       "q_0: ┤ H ├─░───■──┤0            ├─░─\n",
       "     └───┘ ░ ┌─┴─┐│  Layererror │ ░ \n",
       "q_1: ──────░─┤ X ├┤1            ├─░─\n",
       "           ░ └───┘└─────────────┘ ░ "
      ]
     },
     "execution_count": 2,
     "metadata": {},
     "output_type": "execute_result"
    }
   ],
   "source": [
    "lerr = PauliLindbladError(PauliList([\"IX\"]), [1e-3])\n",
    "lerr_instr = PauliLindbladErrorInstruction(lerr)\n",
    "\n",
    "op = SparsePauliOp([\"XY\", \"ZI\", \"II\"], [3, 2, 1])\n",
    "\n",
    "slices = []\n",
    "\n",
    "qc_base = QuantumCircuit(2)\n",
    "\n",
    "qc = qc_base.copy_empty_like()\n",
    "qc.h(0)\n",
    "slices.append(qc)\n",
    "\n",
    "qc = qc_base.copy_empty_like()\n",
    "qc.cx(0, 1)\n",
    "qc.append(lerr_instr, [0, 1])\n",
    "slices.append(qc)\n",
    "\n",
    "qc_full = qc_base.copy_empty_like()\n",
    "for sl in slices:\n",
    "    qc_full.compose(sl, inplace=True)\n",
    "    qc_full.barrier()\n",
    "qc_full.draw(\n",
    "    fold=-1,\n",
    ")"
   ]
  },
  {
   "cell_type": "code",
   "execution_count": 3,
   "metadata": {},
   "outputs": [],
   "source": [
    "op_prop, remaining_slices, metadata = backpropagate(\n",
    "    observables=[op],\n",
    "    slices=slices,\n",
    ")"
   ]
  },
  {
   "cell_type": "code",
   "execution_count": 4,
   "metadata": {},
   "outputs": [
    {
     "data": {
      "text/plain": [
       "[SparsePauliOp(['IY', 'II', 'ZX'],\n",
       "               coeffs=[-2.994006+0.j,  1.      +0.j,  2.      +0.j])]"
      ]
     },
     "execution_count": 4,
     "metadata": {},
     "output_type": "execute_result"
    }
   ],
   "source": [
    "op_prop"
   ]
  },
  {
   "cell_type": "markdown",
   "metadata": {},
   "source": [
    "```\n",
    "[SparsePauliOp(['IY', 'II', 'ZX'],\n",
    "               coeffs=[-2.994006+0.j,  1.      +0.j,  1.996004+0.j])]\n",
    "```"
   ]
  },
  {
   "cell_type": "markdown",
   "metadata": {},
   "source": [
    "# PROBLEM\n",
    "This test case returns a slightly different answer now, even when I checkout Samantha's original branch. \n",
    "This needs to be understood. "
   ]
  }
 ],
 "metadata": {
  "kernelspec": {
   "display_name": "Python 3 (ipykernel)",
   "language": "python",
   "name": "python3"
  },
  "language_info": {
   "codemirror_mode": {
    "name": "ipython",
    "version": 3
   },
   "file_extension": ".py",
   "mimetype": "text/x-python",
   "name": "python",
   "nbconvert_exporter": "python",
   "pygments_lexer": "ipython3",
   "version": "3.11.8"
  }
 },
 "nbformat": 4,
 "nbformat_minor": 4
}
